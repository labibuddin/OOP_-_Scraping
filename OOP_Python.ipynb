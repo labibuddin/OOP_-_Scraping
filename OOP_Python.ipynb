{
  "cells": [
    {
      "cell_type": "markdown",
      "metadata": {
        "id": "iGhEZQhjXdJu"
      },
      "source": [
        "## **Object Oriented Programming**"
      ]
    },
    {
      "cell_type": "markdown",
      "metadata": {
        "id": "OjZcl3wDXmTE"
      },
      "source": [
        "Object-Oriented Programming (OOP) adalah suatu metode pemrograman yang \n",
        "berorientasi objek.\n",
        "Sederhananya, OOP adalah paradigma pemrograman yang merepresentasikan\n",
        "objek seperti objek di sekitar kita dalam bentuk kode program"
      ]
    },
    {
      "cell_type": "markdown",
      "metadata": {
        "id": "Oa3psTEwX8eE"
      },
      "source": [
        "### **Class, Objek, dan Method**"
      ]
    },
    {
      "cell_type": "markdown",
      "metadata": {
        "id": "I6VANfSWYHEx"
      },
      "source": [
        "#### **Class**\n",
        "Class merupakan sintaksis di Python yang menyediakan semua fitur-fitur standar dari Pemrograman Berorientasi Objek atau dalam bahasa Inggris disebut dengan Object Oriented Programming (OOP)."
      ]
    },
    {
      "cell_type": "code",
      "execution_count": 1,
      "metadata": {
        "id": "DvDZHXKSYWph"
      },
      "outputs": [],
      "source": [
        "class NamaKelas:\n",
        "    pass # isi dengan atribut dan method"
      ]
    },
    {
      "cell_type": "markdown",
      "metadata": {
        "id": "3GJ3xvf3aAAy"
      },
      "source": [
        "Pada pemanggilan sintaksis class tersebut, setelah seluruh pernyataan-pernyataan semuanya selesai diproses (didaftarkan sebagai atribut ataupun metode), maka kelas sudah dibuat dan dapat digunakan."
      ]
    },
    {
      "cell_type": "code",
      "execution_count": 2,
      "metadata": {
        "id": "DUfqJ_2DaT9-"
      },
      "outputs": [],
      "source": [
        "class Kalkulator:\n",
        "    \n",
        "    i = 12345\n",
        " \n",
        "    def f(self):\n",
        "        return 'hello world'"
      ]
    },
    {
      "cell_type": "markdown",
      "metadata": {
        "id": "_Hjr7uViad2E"
      },
      "source": [
        "Dari pembuatan class Kalkulator di atas, di dalamnya ada definisi atribut i dan definisi fungsi f.\n",
        "\n",
        "Proses mengacu atribut yaitu Kalkulator.i dan Kalkulator.f sesuai definisi akan mengembalikan nilai integer dan fungsi. Pada proses mengacu atribut tersebut juga dapat mengubah nilainya, misalnya dengan memberikan bilangan bulat lain ke Kalkulator.i akan mengubah nilai yang ada saat ini."
      ]
    },
    {
      "cell_type": "code",
      "execution_count": 3,
      "metadata": {
        "id": "6aQWhkG1aiDK"
      },
      "outputs": [],
      "source": [
        "Kalkulator.i = 1024 # nilai atribut i dalam class Kalkulator akan berubah dari 12345 menjadi 1024"
      ]
    },
    {
      "cell_type": "markdown",
      "metadata": {
        "id": "IFv4knzPawwL"
      },
      "source": [
        "#### **Object**\n",
        "Object adalah instantiation dari sebuah class, menggunakan notasi fungsi yaitu dengan kurung buka-kurung tutup, akan menghasilkan sebuah objek. Kemudian hasil instantiation ini biasanya disimpan dalam sebuah variabel dengan nama yang representatif."
      ]
    },
    {
      "cell_type": "code",
      "execution_count": 4,
      "metadata": {
        "id": "wGVneLr0bEwf"
      },
      "outputs": [],
      "source": [
        "k = Kalkulator()  # membuat instance dari kelas jadi objek, kemudian disimpan pada variabel k"
      ]
    },
    {
      "cell_type": "markdown",
      "metadata": {
        "id": "2iAO8_q2bHau"
      },
      "source": [
        "Sebagai hasil instance sebuah class, suatu objek memiliki atribut dan metode yang didapatkan dari class. "
      ]
    },
    {
      "cell_type": "code",
      "execution_count": 5,
      "metadata": {
        "colab": {
          "base_uri": "https://localhost:8080/",
          "height": 0
        },
        "id": "dKBh9ELGbTLD",
        "outputId": "4edbe6b8-548d-4a06-a98f-a984ae9c194e"
      },
      "outputs": [
        {
          "name": "stdout",
          "output_type": "stream",
          "text": [
            "hello world\n"
          ]
        }
      ],
      "source": [
        "print(k.f())"
      ]
    },
    {
      "cell_type": "markdown",
      "metadata": {
        "id": "upFcCwwmbx8i"
      },
      "source": [
        "#### **Class’ Constructor**\n",
        "Kembali membahas proses instantiation dari class, sering ditemui kebutuhan mengeset nilai awal atau kondisi awal dari atribut yang dimiliki oleh class tersebut, sehingga untuk kebutuhan ini digunakan sebuah fungsi khusus yang biasa disebut sebagai pembangun atau dalam bahasa Inggris disebut constructor. Di Python, fungsi khusus atau metode sebagai constructor ini bernama __init__ atau biasa diucapkan sebagai \"double underscore init\". Pada saat dilakukan instantiation dari class, metode __init__ ini secara otomatis akan dipanggil terlebih dahulu."
      ]
    },
    {
      "cell_type": "code",
      "execution_count": 6,
      "metadata": {
        "id": "ZSlpn1fRb7bT"
      },
      "outputs": [],
      "source": [
        "class Kalkulator:\n",
        "     \n",
        "    def __init__(self):\n",
        "        self.i = 12345\n",
        " \n",
        "    def f(self):\n",
        "        return 'hello world'"
      ]
    },
    {
      "cell_type": "markdown",
      "metadata": {
        "id": "jOBUz--FcWJY"
      },
      "source": [
        "Nilai dari atribut i tidak terdefinisi pada awal definisi Kalkulator, setelah dilakukan instantiation maka nilai atribut i akan bernilai 12345. Meskipun bisa mendefinisikan variabel i sebagai atribut dari class Kalkulator, tetapi sebaiknya berhati-hati mengenai variabel yang akan terbagi (shared) untuk semua instance dari class, terutama untuk tipe yang dapat berubah (mutable), misalnya list dan dictionary."
      ]
    },
    {
      "cell_type": "code",
      "execution_count": 7,
      "metadata": {
        "id": "2N4Fs-N_cpEa"
      },
      "outputs": [],
      "source": [
        "class Kalkulator:\n",
        "    \"\"\"contoh kelas kalkulator sederhana\"\"\"\n",
        " \n",
        "    def __init__(self, i=12345):# parameter i yang bersifat opsional, apabila dalam proses instantiation tidak dikirimkan parameter, secara otomatis i akan diisi nilai bawaan 12345\n",
        "        self.i = i  # i adalah variabel pada constructor, self.i adalah variabel dari class\n",
        " \n",
        "    def f(self):\n",
        "        return 'hello world'"
      ]
    },
    {
      "cell_type": "code",
      "execution_count": 8,
      "metadata": {
        "colab": {
          "base_uri": "https://localhost:8080/",
          "height": 0
        },
        "id": "dz1nKfJXcyW5",
        "outputId": "fdf1af5f-1eb9-456c-9628-927e66cb2e36"
      },
      "outputs": [
        {
          "name": "stdout",
          "output_type": "stream",
          "text": [
            "12345\n",
            "1024\n"
          ]
        }
      ],
      "source": [
        "k = Kalkulator() # default i = 12345\n",
        "print(k.i)   \n",
        "k = Kalkulator(i=1024)  # melakukan instantiation sekaligus mengisi atribut i jadi 1024\n",
        "print(k.i)   "
      ]
    },
    {
      "cell_type": "markdown",
      "metadata": {
        "id": "i97gK13kdKJc"
      },
      "source": [
        "#### **Method**"
      ]
    },
    {
      "cell_type": "markdown",
      "metadata": {
        "id": "uyFZB0jKeCKt"
      },
      "source": [
        "##### **Method dari Object**"
      ]
    },
    {
      "cell_type": "code",
      "execution_count": 9,
      "metadata": {
        "id": "RE40g1D1dsjW"
      },
      "outputs": [
        {
          "data": {
            "text/plain": [
              "'hello world'"
            ]
          },
          "execution_count": 9,
          "metadata": {},
          "output_type": "execute_result"
        }
      ],
      "source": [
        "k.f()"
      ]
    },
    {
      "cell_type": "markdown",
      "metadata": {
        "id": "PxlI_rnvdxya"
      },
      "source": [
        "ekuivalen dengan"
      ]
    },
    {
      "cell_type": "code",
      "execution_count": 10,
      "metadata": {
        "id": "gv_xAav2dtOb"
      },
      "outputs": [
        {
          "data": {
            "text/plain": [
              "'hello world'"
            ]
          },
          "execution_count": 10,
          "metadata": {},
          "output_type": "execute_result"
        }
      ],
      "source": [
        "Kalkulator.f(k)"
      ]
    },
    {
      "cell_type": "markdown",
      "metadata": {
        "id": "s3qsfdbWeIPO"
      },
      "source": [
        "##### **Method dari class**"
      ]
    },
    {
      "cell_type": "code",
      "execution_count": 13,
      "metadata": {
        "id": "ridNkhOneT-7"
      },
      "outputs": [],
      "source": [
        "class Kalkulator:\n",
        "    \n",
        "    def f(self):\n",
        "        return 'hello world'\n",
        " \n",
        "    @classmethod\n",
        "    def tambah_angka(cls, angka1, angka2):\n",
        "        return '{} + {} = {}'.format(angka1, angka2, angka1 + angka2)"
      ]
    },
    {
      "cell_type": "code",
      "execution_count": 14,
      "metadata": {
        "colab": {
          "base_uri": "https://localhost:8080/",
          "height": 0
        },
        "id": "mT8P0mKdfPB_",
        "outputId": "ba75f90b-249d-4503-fd3b-1744b8ced5fd"
      },
      "outputs": [
        {
          "name": "stdout",
          "output_type": "stream",
          "text": [
            "3 + 5 = 8\n"
          ]
        }
      ],
      "source": [
        "k = Kalkulator()\n",
        "print(k.tambah_angka(3, 5)) # tanpa perlu memberikan masukan untuk argumen cls"
      ]
    },
    {
      "cell_type": "markdown",
      "metadata": {
        "id": "k6mf7IZeeOGu"
      },
      "source": [
        "##### **Method secara static**"
      ]
    },
    {
      "cell_type": "code",
      "execution_count": 11,
      "metadata": {
        "id": "qxrCfnUde7Jn"
      },
      "outputs": [],
      "source": [
        "class Kalkulator:\n",
        "\n",
        "    def f(self):\n",
        "        return 'hello world'\n",
        " \n",
        "    @staticmethod\n",
        "    def kali_angka(angka1, angka2):\n",
        "        return '{} x {} = {}'.format(angka1, angka2, angka1 * angka2)"
      ]
    },
    {
      "cell_type": "code",
      "execution_count": 12,
      "metadata": {
        "colab": {
          "base_uri": "https://localhost:8080/",
          "height": 0
        },
        "id": "h6hV4Edvfnr7",
        "outputId": "3b8f2c19-c9ea-4ea7-a90d-b30bee341f29"
      },
      "outputs": [
        {
          "name": "stdout",
          "output_type": "stream",
          "text": [
            "2 x 3 = 6\n"
          ]
        }
      ],
      "source": [
        "k = Kalkulator()\n",
        "a = k.kali_angka(2, 3)\n",
        "print(a)"
      ]
    },
    {
      "cell_type": "markdown",
      "metadata": {
        "id": "2DAOWJiQfrK_"
      },
      "source": [
        "### **Inheritance**"
      ]
    },
    {
      "cell_type": "markdown",
      "metadata": {
        "id": "3D0zxfFlgQOr"
      },
      "source": [
        "![image.png](data:image/png;base64,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)"
      ]
    },
    {
      "cell_type": "markdown",
      "metadata": {
        "id": "jimudz0_gCk_"
      },
      "source": [
        "Paradigma Pemrograman Berorientasi Objek memiliki konsep pewarisan atau dalam bahasa Inggris disebut inheritance, tentunya di Python mendukung fitur ini.\n",
        "\n",
        "Suatu kelas B dapat mewarisi kelas A, sehingga secara otomatis memiliki semua fitur yang dimiliki oleh kelas A, dalam hal ini atribut-atribut dan metode-metode.\n",
        "\n",
        "Dalam contoh ini, kelas A disebut sebagai kelas dasar, yakni kelas yang memberikan warisan atau biasa juga disebut kelas yang diturunkan.\n",
        "\n",
        "Kemudian kelas B disebut sebagai kelas turunan, yakni kelas yang mendapatkan warisan.\n",
        "Jika di kelas B memiliki metode dengan nama yang sama dengan yang dimiliki kelas A, maka metode tersebut akan menimpa metode yang diwariskan dari kelas A."
      ]
    },
    {
      "cell_type": "code",
      "execution_count": 13,
      "metadata": {
        "id": "AHD5L1LtgffO"
      },
      "outputs": [],
      "source": [
        "class Kalkulator:\n",
        "    \"\"\"contoh kelas kalkulator sederhana. anggap kelas ini tidak boleh diubah!\"\"\"\n",
        " \n",
        "    def __init__(self, nilai=0):\n",
        "        self.nilai = nilai\n",
        " \n",
        "    def tambah_angka(self, angka1, angka2):\n",
        "        self.nilai = angka1 + angka2\n",
        "        if self.nilai > 9:  # kalkulator sederhana hanya memroses sampai 9\n",
        "            print('kalkulator sederhana melebihi batas angka: {}'.format(self.nilai))\n",
        "        return self.nilai"
      ]
    },
    {
      "cell_type": "code",
      "execution_count": 14,
      "metadata": {
        "id": "ouxs-5zsgkSS"
      },
      "outputs": [],
      "source": [
        "class KalkulatorKali(Kalkulator): # Class parent adalah Kalkulator\n",
        "    \"\"\"contoh mewarisi kelas kalkulator sederhana\"\"\"\n",
        " \n",
        "    def kali_angka(self, angka1, angka2):\n",
        "        self.nilai = angka1 * angka2\n",
        "        return self.nilai"
      ]
    },
    {
      "cell_type": "code",
      "execution_count": 15,
      "metadata": {
        "colab": {
          "base_uri": "https://localhost:8080/",
          "height": 0
        },
        "id": "4q2kvjKfg4L7",
        "outputId": "99c85373-10fd-4d43-f08e-2376e2d5ae30"
      },
      "outputs": [
        {
          "name": "stdout",
          "output_type": "stream",
          "text": [
            "6\n",
            "kalkulator sederhana melebihi batas angka: 11\n",
            "11\n"
          ]
        }
      ],
      "source": [
        "kk = KalkulatorKali()\n",
        "a = kk.kali_angka(2, 3)  # sesuai dengan definisi class memiliki fitur kali_angka\n",
        "print(a)\n",
        " \n",
        "b = kk.tambah_angka(5, 6)  # memiliki fitur tambah_angka karena mewarisi dari Kalkulator\n",
        "print(b)"
      ]
    },
    {
      "cell_type": "markdown",
      "metadata": {
        "id": "O176nFr6hDt5"
      },
      "source": [
        "#### **Menimpa (Override)**"
      ]
    },
    {
      "cell_type": "markdown",
      "metadata": {
        "id": "swT5UpCNhPkc"
      },
      "source": [
        "Melihat bahwa kalkulator yang anda operasikan mendapatkan peringatan melebihi batas angka yang bisa diproses? Lalu bagaimana kalau Anda ingin mengubah keterbatasan itu? Meski dalam contoh ini anggap tetap tidak boleh mengubah class Kalkulator yang sudah ada.\n",
        "\n",
        "Dalam proses pewarisan, kita bisa menimpa (override) definisi metode yang dimiliki oleh kelas dasar (kelas orang tua, yang diwarisi) dengan nama metode yang sama. Misalnya kita menimpa metode tambah_angka untuk menghilangkan batasan yang dimiliki."
      ]
    },
    {
      "cell_type": "code",
      "execution_count": 16,
      "metadata": {
        "id": "mwBr4ilBhgV_"
      },
      "outputs": [],
      "source": [
        "class KalkulatorKali(Kalkulator):\n",
        "    \"\"\"contoh mewarisi kelas kalkulator sederhana\"\"\"\n",
        " \n",
        "    def kali_angka(self, angka1, angka2):\n",
        "        self.nilai = angka1 * angka2\n",
        "        return self.nilai\n",
        " \n",
        "    def tambah_angka(self, angka1, angka2): # menimpa method pada class dasar/parent (menghilangkan limit penambahan)\n",
        "        self.nilai = angka1 + angka2\n",
        "        return self.nilai"
      ]
    },
    {
      "cell_type": "code",
      "execution_count": null,
      "metadata": {},
      "outputs": [],
      "source": []
    },
    {
      "cell_type": "code",
      "execution_count": 17,
      "metadata": {
        "colab": {
          "base_uri": "https://localhost:8080/",
          "height": 0
        },
        "id": "JC956ooUhkg2",
        "outputId": "112d67fc-2f9b-4cbd-b69c-cff63752156c"
      },
      "outputs": [
        {
          "name": "stdout",
          "output_type": "stream",
          "text": [
            "11\n"
          ]
        }
      ],
      "source": [
        "kk = KalkulatorKali()\n",
        " \n",
        "b = kk.tambah_angka(5, 6)  # fitur tambah_angka yang dipanggil milik KalkulatorKali\n",
        "print(b)"
      ]
    },
    {
      "cell_type": "markdown",
      "metadata": {
        "id": "d1v4SQGPh4LD"
      },
      "source": [
        "#### **Mengedit method pada class parent dari class turunan menggunakan sintax super()**"
      ]
    },
    {
      "cell_type": "code",
      "execution_count": 23,
      "metadata": {
        "id": "i23QRDbGiKmt"
      },
      "outputs": [],
      "source": [
        "class KalkulatorTambah(Kalkulator):\n",
        "    \"\"\"contoh mewarisi kelas kalkulator sederhana\"\"\"\n",
        " \n",
        "    def tambah_angka(self, angka1, angka2):\n",
        "        if angka1 + angka2 <= 9:  # fitur ini sudah oke di kelas dasar, gunakan yang ada saja\n",
        "            super().tambah_angka(angka1, angka2)  # panggil fungsi dari Kalkulator lalu isi nilai\n",
        "        else:  # ini adalah fitur baru yang ingin diperbaiki dari keterbatasan kelas dasar\n",
        "            self.nilai = angka1 + angka2\n",
        "        return self.nilai"
      ]
    },
    {
      "cell_type": "markdown",
      "metadata": {
        "id": "wIoc9dKHifpC"
      },
      "source": [
        "### **Private Variable**"
      ]
    },
    {
      "cell_type": "markdown",
      "metadata": {
        "id": "ailntWxtiqZU"
      },
      "source": [
        "Python ada konvensi dimana penggunaan nama yang diawali dengan garis bawah (underscore), baik itu fungsi, metode, maupun anggota data, akan dianggap sebagai non-publik."
      ]
    }
  ],
  "metadata": {
    "colab": {
      "collapsed_sections": [],
      "name": "OOP_Python.ipynb",
      "provenance": []
    },
    "kernelspec": {
      "display_name": "Python 3.9.5 ('env': venv)",
      "language": "python",
      "name": "python3"
    },
    "language_info": {
      "codemirror_mode": {
        "name": "ipython",
        "version": 3
      },
      "file_extension": ".py",
      "mimetype": "text/x-python",
      "name": "python",
      "nbconvert_exporter": "python",
      "pygments_lexer": "ipython3",
      "version": "3.9.5"
    },
    "vscode": {
      "interpreter": {
        "hash": "e3af395df47b0f769527003f8933dfa19a4bece7db9e65e18852214d2513fa12"
      }
    }
  },
  "nbformat": 4,
  "nbformat_minor": 0
}
